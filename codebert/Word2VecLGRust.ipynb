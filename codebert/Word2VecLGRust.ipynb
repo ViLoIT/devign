{
  "cells": [
    {
      "cell_type": "code",
      "execution_count": null,
      "metadata": {
        "colab": {
          "base_uri": "https://localhost:8080/"
        },
        "id": "iS17OENDAp8Y",
        "outputId": "39ff7ea7-7e0a-470b-8487-e53235a54fd2"
      },
      "outputs": [
        {
          "name": "stdout",
          "output_type": "stream",
          "text": [
            "Requirement already satisfied: gensim in /usr/local/lib/python3.10/dist-packages (4.3.3)\n",
            "Requirement already satisfied: scikit-learn in /usr/local/lib/python3.10/dist-packages (1.5.2)\n",
            "Requirement already satisfied: numpy<2.0,>=1.18.5 in /usr/local/lib/python3.10/dist-packages (from gensim) (1.26.4)\n",
            "Requirement already satisfied: scipy<1.14.0,>=1.7.0 in /usr/local/lib/python3.10/dist-packages (from gensim) (1.13.1)\n",
            "Requirement already satisfied: smart-open>=1.8.1 in /usr/local/lib/python3.10/dist-packages (from gensim) (7.0.5)\n",
            "Requirement already satisfied: joblib>=1.2.0 in /usr/local/lib/python3.10/dist-packages (from scikit-learn) (1.4.2)\n",
            "Requirement already satisfied: threadpoolctl>=3.1.0 in /usr/local/lib/python3.10/dist-packages (from scikit-learn) (3.5.0)\n",
            "Requirement already satisfied: wrapt in /usr/local/lib/python3.10/dist-packages (from smart-open>=1.8.1->gensim) (1.16.0)\n"
          ]
        }
      ],
      "source": [
        "!pip install gensim scikit-learn"
      ]
    },
    {
      "cell_type": "code",
      "execution_count": null,
      "metadata": {
        "id": "m68pigX3Au6Q"
      },
      "outputs": [],
      "source": [
        "import json\n",
        "import re\n",
        "from gensim.models import Word2Vec\n",
        "from sklearn.model_selection import train_test_split\n",
        "from sklearn.linear_model import LogisticRegression\n",
        "from sklearn.metrics import accuracy_score, precision_score, recall_score, f1_score, roc_auc_score, average_precision_score, matthews_corrcoef"
      ]
    },
    {
      "cell_type": "code",
      "execution_count": null,
      "metadata": {
        "id": "6GYW8cs0AxNX"
      },
      "outputs": [],
      "source": [
        "def preprocess_code(code_text):\n",
        "    \"\"\"Tiền xử lý mã nguồn Rust (đầu vào là chuỗi).\"\"\"\n",
        "    code_text = re.sub(r'//.*?\\n|/\\*.*?\\*/', '', code_text, flags=re.DOTALL)  # Xóa comments\n",
        "    code_text = re.sub(r'[^\\w\\s]', '', code_text)  # Xóa ký tự đặc biệt\n",
        "    code_text = code_text.lower()  # Chuyển về chữ thường\n",
        "    return code_text.split()  # Tách thành các từ"
      ]
    },
    {
      "cell_type": "code",
      "execution_count": null,
      "metadata": {
        "id": "EPe5StFuA2zL"
      },
      "outputs": [],
      "source": [
        "def train_word2vec(code_snippets):\n",
        "    \"\"\"Huấn luyện mô hình word2vec.\"\"\"\n",
        "    sentences = [preprocess_code(snippet) for snippet in code_snippets]\n",
        "    model = Word2Vec(sentences, vector_size=100, window=5, min_count=1, workers=4)\n",
        "    return model"
      ]
    },
    {
      "cell_type": "code",
      "execution_count": null,
      "metadata": {
        "id": "LGSwi0kvA3-O"
      },
      "outputs": [],
      "source": [
        "def get_feature_vector(code_json, model):\n",
        "    \"\"\"Trích xuất vector đặc trưng.\"\"\"\n",
        "    words = preprocess_code(code_json)\n",
        "    vectors = [model.wv[word] for word in words if word in model.wv]\n",
        "    return sum(vectors) / len(vectors) if vectors else [0] * 100"
      ]
    },
    {
      "cell_type": "code",
      "execution_count": null,
      "metadata": {
        "id": "kupfpwFEA5j6"
      },
      "outputs": [],
      "source": [
        "def get_feature_vector(code_json, model):\n",
        "    \"\"\"Trích xuất vector đặc trưng.\"\"\"\n",
        "    words = preprocess_code(code_json)\n",
        "    vectors = [model.wv[word] for word in words if word in model.wv]\n",
        "    return sum(vectors) / len(vectors) if vectors else [0] * 100"
      ]
    },
    {
      "cell_type": "code",
      "execution_count": null,
      "metadata": {
        "id": "Gi07-T-OA9Bh"
      },
      "outputs": [],
      "source": [
        "def prepare_data(json_file_path):\n",
        "    \"\"\"Chuẩn bị dữ liệu huấn luyện.\"\"\"\n",
        "    with open(json_file_path, 'r') as f:\n",
        "        data = json.load(f)\n",
        "\n",
        "    code_snippets = [item['func'] for item in data]\n",
        "    labels = [item['target'] for item in data]\n",
        "\n",
        "    model = train_word2vec(code_snippets)\n",
        "    features = [get_feature_vector(snippet, model) for snippet in code_snippets]\n",
        "\n",
        "    X_train, X_test, y_train, y_test = train_test_split(features, labels, test_size=0.2, shuffle=False)\n",
        "    return X_train, X_test, y_train, y_test"
      ]
    },
    {
      "cell_type": "code",
      "execution_count": null,
      "metadata": {
        "id": "2JH0QRKgA_ES"
      },
      "outputs": [],
      "source": [
        "def train_logistic_regression(X_train, y_train, max_iter=100):  # Thêm max_iter\n",
        "    \"\"\"Huấn luyện mô hình logistic regression với giới hạn số vòng lặp.\"\"\"\n",
        "    model = LogisticRegression(max_iter=max_iter)  # Thiết lập max_iter\n",
        "    model.fit(X_train, y_train)\n",
        "    print(\"Số vòng lặp đã chạy:\", model.n_iter_[0])  # In ra số vòng lặp\n",
        "    return model\n",
        "\n",
        "def evaluate_model(model, X_test, y_test):\n",
        "    \"\"\"Đánh giá mô hình.\"\"\"\n",
        "    y_pred = model.predict(X_test)\n",
        "    y_prob = model.predict_proba(X_test)[:, 1]  # Xác suất dự đoán cho class 1\n",
        "\n",
        "    accuracy = accuracy_score(y_test, y_pred)\n",
        "    precision = precision_score(y_test, y_pred)\n",
        "    recall = recall_score(y_test, y_pred)\n",
        "    f1 = f1_score(y_test, y_pred)\n",
        "    roc_auc = roc_auc_score(y_test, y_prob)\n",
        "    pr_auc = average_precision_score(y_test, y_prob)\n",
        "    mcc = matthews_corrcoef(y_test, y_pred)\n",
        "    error_rate = 1 - accuracy\n",
        "\n",
        "    print(\"Accuracy:\", accuracy)\n",
        "    print(\"Precision:\", precision)\n",
        "    print(\"Recall:\", recall)\n",
        "    print(\"F1-score:\", f1)\n",
        "    print(\"ROC AUC:\", roc_auc)\n",
        "    print(\"Precision-Recall AUC:\", pr_auc)\n",
        "    print(\"MCC:\", mcc)\n",
        "    print(\"Error Rate:\", error_rate)"
      ]
    },
    {
      "cell_type": "code",
      "execution_count": null,
      "metadata": {
        "colab": {
          "base_uri": "https://localhost:8080/"
        },
        "id": "y3YpuRj4BBnv",
        "outputId": "33cd5585-f6a5-40e6-ed7d-764f107f1fec"
      },
      "outputs": [
        {
          "name": "stdout",
          "output_type": "stream",
          "text": [
            "Số vòng lặp đã chạy: 33\n",
            "Accuracy: 0.7321428571428571\n",
            "Precision: 0.7307692307692307\n",
            "Recall: 0.7037037037037037\n",
            "F1-score: 0.7169811320754716\n",
            "ROC AUC: 0.8071519795657727\n",
            "Precision-Recall AUC: 0.7400311365109602\n",
            "MCC: 0.46321262548101694\n",
            "Error Rate: 0.2678571428571429\n"
          ]
        }
      ],
      "source": [
        "# Sử dụng\n",
        "json_file_path = \"/content/dataset.rust.json\"  # Thay thế bằng đường dẫn đến file JSON của bạn\n",
        "max_iterations = 100  # Giới hạn số vòng lặp tối đa\n",
        "\n",
        "X_train, X_test, y_train, y_test = prepare_data(json_file_path)\n",
        "model = train_logistic_regression(X_train, y_train, max_iter=max_iterations)  # Truyền max_iter\n",
        "evaluate_model(model, X_test, y_test)"
      ]
    }
  ],
  "metadata": {
    "colab": {
      "provenance": []
    },
    "kernelspec": {
      "display_name": "venv",
      "language": "python",
      "name": "python3"
    },
    "language_info": {
      "name": "python",
      "version": "3.10.12"
    }
  },
  "nbformat": 4,
  "nbformat_minor": 0
}
